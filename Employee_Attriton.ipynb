{
 "cells": [
  {
   "cell_type": "markdown",
   "metadata": {},
   "source": [
    "# PROBLEM STATEMENT"
   ]
  },
  {
   "cell_type": "markdown",
   "metadata": {},
   "source": [
    "in recent years, attention has increasingly been paid to human resources (HR), since worker quality and skills represent a growth factor and a real competitive advantage for companies. After proving its mettle in sales and marketing, artificial intelligence is also becoming central to employee-related decisions within HR management. Organizational growth largely depends on staff retention. Losing employees frequently impacts the morale of the organization and hiring new employees is more expensive than retaining existing ones. \n",
    "\n",
    "You are working as a data scientist with HR Department of a large insurance company focused on sales team attrition. Insurance sales teams help insurance companies generate new business by contacting potential customers and selling one or more types of insurance. The department generally sees high attrition and thus staffing becomes a crucial aspect. \n",
    "\n",
    "To aid staffing, you are provided with the monthly information for a segment of employees for 2016 and 2017 and tasked to predict whether a current employee will be leaving the organization in the upcoming two quarters (01 Jan 2018 - 01 July 2018) or not, given:\n",
    "\n",
    "\n",
    "1. Demographics of the employee (city, age, gender etc.)\n",
    "2. Tenure information (joining date, Last Date)\n",
    "3. Historical data regarding the performance of the employee (Quarterly rating, Monthly business acquired, designation, salary)"
   ]
  },
  {
   "cell_type": "code",
   "execution_count": 1,
   "metadata": {},
   "outputs": [],
   "source": [
    "import matplotlib.pyplot as plt\n",
    "import pandas as pd\n",
    "import numpy as np\n",
    "import seaborn as sns\n",
    "\n",
    "from IPython.display import display_html\n",
    "\n",
    "from scipy import stats\n",
    "\n",
    "from sklearn.preprocessing import LabelEncoder\n",
    "from sklearn.preprocessing import OneHotEncoder\n",
    "\n",
    "from sklearn.model_selection import train_test_split\n",
    "from sklearn.model_selection import KFold\n",
    "from sklearn.model_selection import StratifiedKFold\n",
    "\n",
    "from sklearn import metrics\n",
    "from sklearn.metrics import confusion_matrix\n",
    "from sklearn.metrics import accuracy_score\n",
    "\n",
    "\n",
    "import warnings\n",
    "warnings.filterwarnings('always')\n",
    "warnings.filterwarnings('ignore')"
   ]
  },
  {
   "cell_type": "markdown",
   "metadata": {},
   "source": [
    "# DATA PREPROCESSING"
   ]
  },
  {
   "cell_type": "code",
   "execution_count": 2,
   "metadata": {},
   "outputs": [],
   "source": [
    "train = pd.read_csv(r\"C:\\Users\\Sasidharan\\Desktop\\Jobathon\\train_MpHjUjU.csv\")\n",
    "t = pd.read_csv(r\"C:\\Users\\Sasidharan\\Desktop\\Jobathon\\test_hXY9mYw.csv\")"
   ]
  },
  {
   "cell_type": "code",
   "execution_count": 3,
   "metadata": {},
   "outputs": [],
   "source": [
    "train = pd.DataFrame(train)\n",
    "t = pd.DataFrame(t)"
   ]
  },
  {
   "cell_type": "code",
   "execution_count": 4,
   "metadata": {},
   "outputs": [
    {
     "data": {
      "text/html": [
       "<div>\n",
       "<style scoped>\n",
       "    .dataframe tbody tr th:only-of-type {\n",
       "        vertical-align: middle;\n",
       "    }\n",
       "\n",
       "    .dataframe tbody tr th {\n",
       "        vertical-align: top;\n",
       "    }\n",
       "\n",
       "    .dataframe thead th {\n",
       "        text-align: right;\n",
       "    }\n",
       "</style>\n",
       "<table border=\"1\" class=\"dataframe\">\n",
       "  <thead>\n",
       "    <tr style=\"text-align: right;\">\n",
       "      <th></th>\n",
       "      <th>MMM-YY</th>\n",
       "      <th>Emp_ID</th>\n",
       "      <th>Age</th>\n",
       "      <th>Gender</th>\n",
       "      <th>City</th>\n",
       "      <th>Education_Level</th>\n",
       "      <th>Salary</th>\n",
       "      <th>Dateofjoining</th>\n",
       "      <th>LastWorkingDate</th>\n",
       "      <th>Joining Designation</th>\n",
       "      <th>Designation</th>\n",
       "      <th>Total Business Value</th>\n",
       "      <th>Quarterly Rating</th>\n",
       "    </tr>\n",
       "  </thead>\n",
       "  <tbody>\n",
       "    <tr>\n",
       "      <th>0</th>\n",
       "      <td>2016-01-01</td>\n",
       "      <td>1</td>\n",
       "      <td>28</td>\n",
       "      <td>Male</td>\n",
       "      <td>C23</td>\n",
       "      <td>Master</td>\n",
       "      <td>57387</td>\n",
       "      <td>2015-12-24</td>\n",
       "      <td>NaN</td>\n",
       "      <td>1</td>\n",
       "      <td>1</td>\n",
       "      <td>2381060</td>\n",
       "      <td>2</td>\n",
       "    </tr>\n",
       "    <tr>\n",
       "      <th>1</th>\n",
       "      <td>2016-02-01</td>\n",
       "      <td>1</td>\n",
       "      <td>28</td>\n",
       "      <td>Male</td>\n",
       "      <td>C23</td>\n",
       "      <td>Master</td>\n",
       "      <td>57387</td>\n",
       "      <td>2015-12-24</td>\n",
       "      <td>NaN</td>\n",
       "      <td>1</td>\n",
       "      <td>1</td>\n",
       "      <td>-665480</td>\n",
       "      <td>2</td>\n",
       "    </tr>\n",
       "    <tr>\n",
       "      <th>2</th>\n",
       "      <td>2016-03-01</td>\n",
       "      <td>1</td>\n",
       "      <td>28</td>\n",
       "      <td>Male</td>\n",
       "      <td>C23</td>\n",
       "      <td>Master</td>\n",
       "      <td>57387</td>\n",
       "      <td>2015-12-24</td>\n",
       "      <td>2016-03-11</td>\n",
       "      <td>1</td>\n",
       "      <td>1</td>\n",
       "      <td>0</td>\n",
       "      <td>2</td>\n",
       "    </tr>\n",
       "    <tr>\n",
       "      <th>3</th>\n",
       "      <td>2017-11-01</td>\n",
       "      <td>2</td>\n",
       "      <td>31</td>\n",
       "      <td>Male</td>\n",
       "      <td>C7</td>\n",
       "      <td>Master</td>\n",
       "      <td>67016</td>\n",
       "      <td>2017-11-06</td>\n",
       "      <td>NaN</td>\n",
       "      <td>2</td>\n",
       "      <td>2</td>\n",
       "      <td>0</td>\n",
       "      <td>1</td>\n",
       "    </tr>\n",
       "    <tr>\n",
       "      <th>4</th>\n",
       "      <td>2017-12-01</td>\n",
       "      <td>2</td>\n",
       "      <td>31</td>\n",
       "      <td>Male</td>\n",
       "      <td>C7</td>\n",
       "      <td>Master</td>\n",
       "      <td>67016</td>\n",
       "      <td>2017-11-06</td>\n",
       "      <td>NaN</td>\n",
       "      <td>2</td>\n",
       "      <td>2</td>\n",
       "      <td>0</td>\n",
       "      <td>1</td>\n",
       "    </tr>\n",
       "  </tbody>\n",
       "</table>\n",
       "</div>"
      ],
      "text/plain": [
       "       MMM-YY  Emp_ID  Age Gender City Education_Level  Salary Dateofjoining  \\\n",
       "0  2016-01-01       1   28   Male  C23          Master   57387    2015-12-24   \n",
       "1  2016-02-01       1   28   Male  C23          Master   57387    2015-12-24   \n",
       "2  2016-03-01       1   28   Male  C23          Master   57387    2015-12-24   \n",
       "3  2017-11-01       2   31   Male   C7          Master   67016    2017-11-06   \n",
       "4  2017-12-01       2   31   Male   C7          Master   67016    2017-11-06   \n",
       "\n",
       "  LastWorkingDate  Joining Designation  Designation  Total Business Value  \\\n",
       "0             NaN                    1            1               2381060   \n",
       "1             NaN                    1            1               -665480   \n",
       "2      2016-03-11                    1            1                     0   \n",
       "3             NaN                    2            2                     0   \n",
       "4             NaN                    2            2                     0   \n",
       "\n",
       "   Quarterly Rating  \n",
       "0                 2  \n",
       "1                 2  \n",
       "2                 2  \n",
       "3                 1  \n",
       "4                 1  "
      ]
     },
     "execution_count": 4,
     "metadata": {},
     "output_type": "execute_result"
    }
   ],
   "source": [
    "train.head()"
   ]
  },
  {
   "cell_type": "code",
   "execution_count": 5,
   "metadata": {},
   "outputs": [
    {
     "data": {
      "text/html": [
       "<div>\n",
       "<style scoped>\n",
       "    .dataframe tbody tr th:only-of-type {\n",
       "        vertical-align: middle;\n",
       "    }\n",
       "\n",
       "    .dataframe tbody tr th {\n",
       "        vertical-align: top;\n",
       "    }\n",
       "\n",
       "    .dataframe thead th {\n",
       "        text-align: right;\n",
       "    }\n",
       "</style>\n",
       "<table border=\"1\" class=\"dataframe\">\n",
       "  <thead>\n",
       "    <tr style=\"text-align: right;\">\n",
       "      <th></th>\n",
       "      <th>Emp_ID</th>\n",
       "    </tr>\n",
       "  </thead>\n",
       "  <tbody>\n",
       "    <tr>\n",
       "      <th>0</th>\n",
       "      <td>394</td>\n",
       "    </tr>\n",
       "    <tr>\n",
       "      <th>1</th>\n",
       "      <td>173</td>\n",
       "    </tr>\n",
       "    <tr>\n",
       "      <th>2</th>\n",
       "      <td>1090</td>\n",
       "    </tr>\n",
       "    <tr>\n",
       "      <th>3</th>\n",
       "      <td>840</td>\n",
       "    </tr>\n",
       "    <tr>\n",
       "      <th>4</th>\n",
       "      <td>308</td>\n",
       "    </tr>\n",
       "  </tbody>\n",
       "</table>\n",
       "</div>"
      ],
      "text/plain": [
       "   Emp_ID\n",
       "0     394\n",
       "1     173\n",
       "2    1090\n",
       "3     840\n",
       "4     308"
      ]
     },
     "execution_count": 5,
     "metadata": {},
     "output_type": "execute_result"
    }
   ],
   "source": [
    "t.head()"
   ]
  },
  {
   "cell_type": "code",
   "execution_count": 6,
   "metadata": {},
   "outputs": [
    {
     "data": {
      "text/plain": [
       "((19104, 13), (741, 1))"
      ]
     },
     "execution_count": 6,
     "metadata": {},
     "output_type": "execute_result"
    }
   ],
   "source": [
    "train.shape, t.shape"
   ]
  },
  {
   "cell_type": "code",
   "execution_count": 7,
   "metadata": {},
   "outputs": [
    {
     "data": {
      "text/plain": [
       "MMM-YY                      0\n",
       "Emp_ID                      0\n",
       "Age                         0\n",
       "Gender                      0\n",
       "City                        0\n",
       "Education_Level             0\n",
       "Salary                      0\n",
       "Dateofjoining               0\n",
       "LastWorkingDate         17488\n",
       "Joining Designation         0\n",
       "Designation                 0\n",
       "Total Business Value        0\n",
       "Quarterly Rating            0\n",
       "dtype: int64"
      ]
     },
     "execution_count": 7,
     "metadata": {},
     "output_type": "execute_result"
    }
   ],
   "source": [
    "train.isnull().sum()"
   ]
  },
  {
   "cell_type": "code",
   "execution_count": 8,
   "metadata": {},
   "outputs": [
    {
     "data": {
      "text/plain": [
       "Index(['MMM-YY', 'Emp_ID', 'Age', 'Gender', 'City', 'Education_Level',\n",
       "       'Salary', 'Dateofjoining', 'LastWorkingDate', 'Joining Designation',\n",
       "       'Designation', 'Total Business Value', 'Quarterly Rating'],\n",
       "      dtype='object')"
      ]
     },
     "execution_count": 8,
     "metadata": {},
     "output_type": "execute_result"
    }
   ],
   "source": [
    "train.columns"
   ]
  },
  {
   "cell_type": "code",
   "execution_count": 9,
   "metadata": {},
   "outputs": [
    {
     "data": {
      "text/plain": [
       "2381"
      ]
     },
     "execution_count": 9,
     "metadata": {},
     "output_type": "execute_result"
    }
   ],
   "source": [
    "train[\"Emp_ID\"].nunique()\n"
   ]
  },
  {
   "cell_type": "markdown",
   "metadata": {},
   "source": [
    "# There are 2381 unique employee ids. Information is available for each individual employee on a monthly reporting basis."
   ]
  },
  {
   "cell_type": "code",
   "execution_count": 10,
   "metadata": {
    "scrolled": true
   },
   "outputs": [
    {
     "data": {
      "text/html": [
       "<div>\n",
       "<style scoped>\n",
       "    .dataframe tbody tr th:only-of-type {\n",
       "        vertical-align: middle;\n",
       "    }\n",
       "\n",
       "    .dataframe tbody tr th {\n",
       "        vertical-align: top;\n",
       "    }\n",
       "\n",
       "    .dataframe thead th {\n",
       "        text-align: right;\n",
       "    }\n",
       "</style>\n",
       "<table border=\"1\" class=\"dataframe\">\n",
       "  <thead>\n",
       "    <tr style=\"text-align: right;\">\n",
       "      <th></th>\n",
       "      <th>MMM-YY</th>\n",
       "      <th>Emp_ID</th>\n",
       "      <th>Age</th>\n",
       "      <th>Gender</th>\n",
       "      <th>City</th>\n",
       "      <th>Education_Level</th>\n",
       "      <th>Salary</th>\n",
       "      <th>Dateofjoining</th>\n",
       "      <th>LastWorkingDate</th>\n",
       "      <th>Joining Designation</th>\n",
       "      <th>Designation</th>\n",
       "      <th>Total Business Value</th>\n",
       "      <th>Quarterly Rating</th>\n",
       "    </tr>\n",
       "  </thead>\n",
       "  <tbody>\n",
       "    <tr>\n",
       "      <th>0</th>\n",
       "      <td>2016-01-01</td>\n",
       "      <td>1</td>\n",
       "      <td>28</td>\n",
       "      <td>Male</td>\n",
       "      <td>C23</td>\n",
       "      <td>Master</td>\n",
       "      <td>57387</td>\n",
       "      <td>2015-12-24</td>\n",
       "      <td>NaN</td>\n",
       "      <td>1</td>\n",
       "      <td>1</td>\n",
       "      <td>2381060</td>\n",
       "      <td>2</td>\n",
       "    </tr>\n",
       "    <tr>\n",
       "      <th>1</th>\n",
       "      <td>2016-02-01</td>\n",
       "      <td>1</td>\n",
       "      <td>28</td>\n",
       "      <td>Male</td>\n",
       "      <td>C23</td>\n",
       "      <td>Master</td>\n",
       "      <td>57387</td>\n",
       "      <td>2015-12-24</td>\n",
       "      <td>NaN</td>\n",
       "      <td>1</td>\n",
       "      <td>1</td>\n",
       "      <td>-665480</td>\n",
       "      <td>2</td>\n",
       "    </tr>\n",
       "    <tr>\n",
       "      <th>2</th>\n",
       "      <td>2016-03-01</td>\n",
       "      <td>1</td>\n",
       "      <td>28</td>\n",
       "      <td>Male</td>\n",
       "      <td>C23</td>\n",
       "      <td>Master</td>\n",
       "      <td>57387</td>\n",
       "      <td>2015-12-24</td>\n",
       "      <td>2016-03-11</td>\n",
       "      <td>1</td>\n",
       "      <td>1</td>\n",
       "      <td>0</td>\n",
       "      <td>2</td>\n",
       "    </tr>\n",
       "  </tbody>\n",
       "</table>\n",
       "</div>"
      ],
      "text/plain": [
       "       MMM-YY  Emp_ID  Age Gender City Education_Level  Salary Dateofjoining  \\\n",
       "0  2016-01-01       1   28   Male  C23          Master   57387    2015-12-24   \n",
       "1  2016-02-01       1   28   Male  C23          Master   57387    2015-12-24   \n",
       "2  2016-03-01       1   28   Male  C23          Master   57387    2015-12-24   \n",
       "\n",
       "  LastWorkingDate  Joining Designation  Designation  Total Business Value  \\\n",
       "0             NaN                    1            1               2381060   \n",
       "1             NaN                    1            1               -665480   \n",
       "2      2016-03-11                    1            1                     0   \n",
       "\n",
       "   Quarterly Rating  \n",
       "0                 2  \n",
       "1                 2  \n",
       "2                 2  "
      ]
     },
     "execution_count": 10,
     "metadata": {},
     "output_type": "execute_result"
    }
   ],
   "source": [
    "train[train.Emp_ID == 1]"
   ]
  },
  {
   "cell_type": "code",
   "execution_count": 11,
   "metadata": {},
   "outputs": [
    {
     "data": {
      "text/plain": [
       "741"
      ]
     },
     "execution_count": 11,
     "metadata": {},
     "output_type": "execute_result"
    }
   ],
   "source": [
    "t[\"Emp_ID\"].nunique()"
   ]
  },
  {
   "cell_type": "markdown",
   "metadata": {},
   "source": [
    "Upon closer inspection, we find that there are multiple entries corresponding to each Employee_ID based on their review data"
   ]
  },
  {
   "cell_type": "code",
   "execution_count": 12,
   "metadata": {},
   "outputs": [
    {
     "name": "stdout",
     "output_type": "stream",
     "text": [
      "Categorical Features in Train Set: 6\n",
      "Numerical Features in Train Set: 7\n"
     ]
    }
   ],
   "source": [
    "#categorical features\n",
    "categorical = train.select_dtypes(include =[np.object])\n",
    "print(\"Categorical Features in Train Set:\",categorical.shape[1])\n",
    "\n",
    "#numerical features\n",
    "numerical= train.select_dtypes(include =[np.float64,np.int64])\n",
    "print(\"Numerical Features in Train Set:\",numerical.shape[1])\n"
   ]
  },
  {
   "cell_type": "code",
   "execution_count": 13,
   "metadata": {},
   "outputs": [
    {
     "name": "stdout",
     "output_type": "stream",
     "text": [
      "Index(['MMM-YY', 'Gender', 'City', 'Education_Level', 'Dateofjoining',\n",
      "       'LastWorkingDate'],\n",
      "      dtype='object')\n",
      "Index(['Emp_ID', 'Age', 'Salary', 'Joining Designation', 'Designation',\n",
      "       'Total Business Value', 'Quarterly Rating'],\n",
      "      dtype='object')\n"
     ]
    }
   ],
   "source": [
    "print(categorical.columns)\n",
    "print(numerical.columns)"
   ]
  },
  {
   "cell_type": "code",
   "execution_count": 14,
   "metadata": {},
   "outputs": [],
   "source": [
    "# Converting emplyee_id into object format\n",
    "\n",
    "train[\"Emp_ID\"] = train[\"Emp_ID\"].astype(object)"
   ]
  },
  {
   "cell_type": "code",
   "execution_count": 15,
   "metadata": {},
   "outputs": [],
   "source": [
    "train.loc[train[\"LastWorkingDate\"].isna(),\"Left_company\"] = 0\n",
    "train.loc[train[\"LastWorkingDate\"].notna(),\"Left_company\"] = 1"
   ]
  },
  {
   "cell_type": "code",
   "execution_count": 16,
   "metadata": {},
   "outputs": [],
   "source": [
    "train[[\"MMM-YY\",\"Dateofjoining\",\"LastWorkingDate\"]] = train[[\"MMM-YY\",\"Dateofjoining\",\"LastWorkingDate\"]].apply(pd.to_datetime)"
   ]
  },
  {
   "cell_type": "code",
   "execution_count": 17,
   "metadata": {},
   "outputs": [
    {
     "data": {
      "text/html": [
       "<div>\n",
       "<style scoped>\n",
       "    .dataframe tbody tr th:only-of-type {\n",
       "        vertical-align: middle;\n",
       "    }\n",
       "\n",
       "    .dataframe tbody tr th {\n",
       "        vertical-align: top;\n",
       "    }\n",
       "\n",
       "    .dataframe thead th {\n",
       "        text-align: right;\n",
       "    }\n",
       "</style>\n",
       "<table border=\"1\" class=\"dataframe\">\n",
       "  <thead>\n",
       "    <tr style=\"text-align: right;\">\n",
       "      <th></th>\n",
       "      <th>MMM-YY</th>\n",
       "      <th>Emp_ID</th>\n",
       "      <th>Age</th>\n",
       "      <th>Gender</th>\n",
       "      <th>City</th>\n",
       "      <th>Education_Level</th>\n",
       "      <th>Salary</th>\n",
       "      <th>Dateofjoining</th>\n",
       "      <th>LastWorkingDate</th>\n",
       "      <th>Joining Designation</th>\n",
       "      <th>Designation</th>\n",
       "      <th>Total Business Value</th>\n",
       "      <th>Quarterly Rating</th>\n",
       "      <th>Left_company</th>\n",
       "    </tr>\n",
       "  </thead>\n",
       "  <tbody>\n",
       "    <tr>\n",
       "      <th>0</th>\n",
       "      <td>2016-01-01</td>\n",
       "      <td>1</td>\n",
       "      <td>28</td>\n",
       "      <td>Male</td>\n",
       "      <td>C23</td>\n",
       "      <td>Master</td>\n",
       "      <td>57387</td>\n",
       "      <td>2015-12-24</td>\n",
       "      <td>NaT</td>\n",
       "      <td>1</td>\n",
       "      <td>1</td>\n",
       "      <td>2381060</td>\n",
       "      <td>2</td>\n",
       "      <td>0.0</td>\n",
       "    </tr>\n",
       "    <tr>\n",
       "      <th>1</th>\n",
       "      <td>2016-02-01</td>\n",
       "      <td>1</td>\n",
       "      <td>28</td>\n",
       "      <td>Male</td>\n",
       "      <td>C23</td>\n",
       "      <td>Master</td>\n",
       "      <td>57387</td>\n",
       "      <td>2015-12-24</td>\n",
       "      <td>NaT</td>\n",
       "      <td>1</td>\n",
       "      <td>1</td>\n",
       "      <td>-665480</td>\n",
       "      <td>2</td>\n",
       "      <td>0.0</td>\n",
       "    </tr>\n",
       "    <tr>\n",
       "      <th>2</th>\n",
       "      <td>2016-03-01</td>\n",
       "      <td>1</td>\n",
       "      <td>28</td>\n",
       "      <td>Male</td>\n",
       "      <td>C23</td>\n",
       "      <td>Master</td>\n",
       "      <td>57387</td>\n",
       "      <td>2015-12-24</td>\n",
       "      <td>2016-03-11</td>\n",
       "      <td>1</td>\n",
       "      <td>1</td>\n",
       "      <td>0</td>\n",
       "      <td>2</td>\n",
       "      <td>1.0</td>\n",
       "    </tr>\n",
       "    <tr>\n",
       "      <th>3</th>\n",
       "      <td>2017-11-01</td>\n",
       "      <td>2</td>\n",
       "      <td>31</td>\n",
       "      <td>Male</td>\n",
       "      <td>C7</td>\n",
       "      <td>Master</td>\n",
       "      <td>67016</td>\n",
       "      <td>2017-11-06</td>\n",
       "      <td>NaT</td>\n",
       "      <td>2</td>\n",
       "      <td>2</td>\n",
       "      <td>0</td>\n",
       "      <td>1</td>\n",
       "      <td>0.0</td>\n",
       "    </tr>\n",
       "    <tr>\n",
       "      <th>4</th>\n",
       "      <td>2017-12-01</td>\n",
       "      <td>2</td>\n",
       "      <td>31</td>\n",
       "      <td>Male</td>\n",
       "      <td>C7</td>\n",
       "      <td>Master</td>\n",
       "      <td>67016</td>\n",
       "      <td>2017-11-06</td>\n",
       "      <td>NaT</td>\n",
       "      <td>2</td>\n",
       "      <td>2</td>\n",
       "      <td>0</td>\n",
       "      <td>1</td>\n",
       "      <td>0.0</td>\n",
       "    </tr>\n",
       "  </tbody>\n",
       "</table>\n",
       "</div>"
      ],
      "text/plain": [
       "      MMM-YY Emp_ID  Age Gender City Education_Level  Salary Dateofjoining  \\\n",
       "0 2016-01-01      1   28   Male  C23          Master   57387    2015-12-24   \n",
       "1 2016-02-01      1   28   Male  C23          Master   57387    2015-12-24   \n",
       "2 2016-03-01      1   28   Male  C23          Master   57387    2015-12-24   \n",
       "3 2017-11-01      2   31   Male   C7          Master   67016    2017-11-06   \n",
       "4 2017-12-01      2   31   Male   C7          Master   67016    2017-11-06   \n",
       "\n",
       "  LastWorkingDate  Joining Designation  Designation  Total Business Value  \\\n",
       "0             NaT                    1            1               2381060   \n",
       "1             NaT                    1            1               -665480   \n",
       "2      2016-03-11                    1            1                     0   \n",
       "3             NaT                    2            2                     0   \n",
       "4             NaT                    2            2                     0   \n",
       "\n",
       "   Quarterly Rating  Left_company  \n",
       "0                 2           0.0  \n",
       "1                 2           0.0  \n",
       "2                 2           1.0  \n",
       "3                 1           0.0  \n",
       "4                 1           0.0  "
      ]
     },
     "execution_count": 17,
     "metadata": {},
     "output_type": "execute_result"
    }
   ],
   "source": [
    "train.head()"
   ]
  },
  {
   "cell_type": "code",
   "execution_count": 18,
   "metadata": {},
   "outputs": [
    {
     "data": {
      "text/plain": [
       "1    1616\n",
       "0     765\n",
       "Name: LastWorkingDate, dtype: int64"
      ]
     },
     "execution_count": 18,
     "metadata": {},
     "output_type": "execute_result"
    }
   ],
   "source": [
    "train.groupby(\"Emp_ID\")[\"LastWorkingDate\"].count().value_counts()"
   ]
  },
  {
   "cell_type": "markdown",
   "metadata": {},
   "source": [
    "# FEATURE CREATION "
   ]
  },
  {
   "cell_type": "markdown",
   "metadata": {},
   "source": [
    "Transforming some of the features such as dates and creating additional features based on the ones already available;"
   ]
  },
  {
   "cell_type": "code",
   "execution_count": 19,
   "metadata": {},
   "outputs": [],
   "source": [
    "def features(x):\n",
    "    x[\"LastWorkingDate\"] = x[\"LastWorkingDate\"].iloc[-1]\n",
    "    \n",
    "    # How long has the employee been at the company in months\n",
    "    \n",
    "    x[\"Experience\"] = ((x[\"MMM-YY\"] - x[\"Dateofjoining\"].iloc[0]).dt.days) / 30\n",
    "    x.loc[x[\"Experience\"] < 0, \"Experience\"] = 0\n",
    "    \n",
    "    # Salary raise from starting salary \n",
    "    \n",
    "    x[\"Salaryraise\"] = (x[\"Salary\"] - x[\"Salary\"].iloc[0]) / x[\"Salary\"].iloc[0]\n",
    "    \n",
    "    # No of promotions during employment\n",
    "    \n",
    "    x[\"Levels of Promotion\"] = x[\"Designation\"] - x[\"Joining Designation\"]\n",
    "    \n",
    "   # Rating difference from previous quarter\n",
    "    \n",
    "    x[\"Quarterly rating diff\"] = x[\"Quarterly Rating\"] - x[\"Quarterly Rating\"].shift(1)\n",
    "    \n",
    "    # Previous Quarter Rating\n",
    "    \n",
    "    x[\"Previous quarterly rating\"] = x[\"Quarterly Rating\"].shift(1)\n",
    "    \n",
    "    # Total cumulative value employee has generated at the time of monthly reporting\n",
    "    \n",
    "    x[\"Accumulated Business Value\"] = x[\"Total Business Value\"].cumsum()\n",
    "    \n",
    "    # Total cumulative salary of the employee\n",
    "    \n",
    "    x[\"Accumulated Salary\"] = x[\"Salary\"].cumsum()\n",
    "    \n",
    "    # No of days between an employee quit date and a monthly reporting date;\n",
    "    \n",
    "    x[\"Days\"] = x[\"LastWorkingDate\"] - x[\"MMM-YY\"]\n",
    "    \n",
    "    # Quarterly employee value (how much money does an employee bring into the company for every unit salary paid to him/her)\n",
    "    \n",
    "    x[\"QE_val\"] = x[\"Total Business Value\"] / x[\"Salary\"]\n",
    "    \n",
    "    # Accumulated Employee val\n",
    "    \n",
    "    x[\"Accumulated QE_val\"] = x[\"Accumulated Business Value\"] / x[\"Accumulated Salary\"]\n",
    "    \n",
    "\n",
    "    return x\n",
    "    \n",
    "a = train.groupby(\"Emp_ID\").apply(features)"
   ]
  },
  {
   "cell_type": "markdown",
   "metadata": {},
   "source": [
    "# EXPLORATORY ANALYSIS"
   ]
  },
  {
   "cell_type": "code",
   "execution_count": 20,
   "metadata": {},
   "outputs": [
    {
     "data": {
      "text/html": [
       "<div>\n",
       "<style scoped>\n",
       "    .dataframe tbody tr th:only-of-type {\n",
       "        vertical-align: middle;\n",
       "    }\n",
       "\n",
       "    .dataframe tbody tr th {\n",
       "        vertical-align: top;\n",
       "    }\n",
       "\n",
       "    .dataframe thead th {\n",
       "        text-align: right;\n",
       "    }\n",
       "</style>\n",
       "<table border=\"1\" class=\"dataframe\">\n",
       "  <thead>\n",
       "    <tr style=\"text-align: right;\">\n",
       "      <th></th>\n",
       "      <th>MMM-YY</th>\n",
       "      <th>Emp_ID</th>\n",
       "      <th>Age</th>\n",
       "      <th>Gender</th>\n",
       "      <th>City</th>\n",
       "      <th>Education_Level</th>\n",
       "      <th>Salary</th>\n",
       "      <th>Dateofjoining</th>\n",
       "      <th>LastWorkingDate</th>\n",
       "      <th>Joining Designation</th>\n",
       "      <th>...</th>\n",
       "      <th>Experience</th>\n",
       "      <th>Salaryraise</th>\n",
       "      <th>Levels of Promotion</th>\n",
       "      <th>Quarterly rating diff</th>\n",
       "      <th>Previous quarterly rating</th>\n",
       "      <th>Accumulated Business Value</th>\n",
       "      <th>Accumulated Salary</th>\n",
       "      <th>Days</th>\n",
       "      <th>QE_val</th>\n",
       "      <th>Accumulated QE_val</th>\n",
       "    </tr>\n",
       "  </thead>\n",
       "  <tbody>\n",
       "    <tr>\n",
       "      <th>0</th>\n",
       "      <td>2016-01-01</td>\n",
       "      <td>1</td>\n",
       "      <td>28</td>\n",
       "      <td>Male</td>\n",
       "      <td>C23</td>\n",
       "      <td>Master</td>\n",
       "      <td>57387</td>\n",
       "      <td>2015-12-24</td>\n",
       "      <td>2016-03-11</td>\n",
       "      <td>1</td>\n",
       "      <td>...</td>\n",
       "      <td>0.266667</td>\n",
       "      <td>0.0</td>\n",
       "      <td>0</td>\n",
       "      <td>NaN</td>\n",
       "      <td>NaN</td>\n",
       "      <td>2381060</td>\n",
       "      <td>57387</td>\n",
       "      <td>70 days</td>\n",
       "      <td>41.491279</td>\n",
       "      <td>41.491279</td>\n",
       "    </tr>\n",
       "    <tr>\n",
       "      <th>1</th>\n",
       "      <td>2016-02-01</td>\n",
       "      <td>1</td>\n",
       "      <td>28</td>\n",
       "      <td>Male</td>\n",
       "      <td>C23</td>\n",
       "      <td>Master</td>\n",
       "      <td>57387</td>\n",
       "      <td>2015-12-24</td>\n",
       "      <td>2016-03-11</td>\n",
       "      <td>1</td>\n",
       "      <td>...</td>\n",
       "      <td>1.300000</td>\n",
       "      <td>0.0</td>\n",
       "      <td>0</td>\n",
       "      <td>0.0</td>\n",
       "      <td>2.0</td>\n",
       "      <td>1715580</td>\n",
       "      <td>114774</td>\n",
       "      <td>39 days</td>\n",
       "      <td>-11.596355</td>\n",
       "      <td>14.947462</td>\n",
       "    </tr>\n",
       "    <tr>\n",
       "      <th>2</th>\n",
       "      <td>2016-03-01</td>\n",
       "      <td>1</td>\n",
       "      <td>28</td>\n",
       "      <td>Male</td>\n",
       "      <td>C23</td>\n",
       "      <td>Master</td>\n",
       "      <td>57387</td>\n",
       "      <td>2015-12-24</td>\n",
       "      <td>2016-03-11</td>\n",
       "      <td>1</td>\n",
       "      <td>...</td>\n",
       "      <td>2.266667</td>\n",
       "      <td>0.0</td>\n",
       "      <td>0</td>\n",
       "      <td>0.0</td>\n",
       "      <td>2.0</td>\n",
       "      <td>1715580</td>\n",
       "      <td>172161</td>\n",
       "      <td>10 days</td>\n",
       "      <td>0.000000</td>\n",
       "      <td>9.964975</td>\n",
       "    </tr>\n",
       "    <tr>\n",
       "      <th>3</th>\n",
       "      <td>2017-11-01</td>\n",
       "      <td>2</td>\n",
       "      <td>31</td>\n",
       "      <td>Male</td>\n",
       "      <td>C7</td>\n",
       "      <td>Master</td>\n",
       "      <td>67016</td>\n",
       "      <td>2017-11-06</td>\n",
       "      <td>NaT</td>\n",
       "      <td>2</td>\n",
       "      <td>...</td>\n",
       "      <td>0.000000</td>\n",
       "      <td>0.0</td>\n",
       "      <td>0</td>\n",
       "      <td>NaN</td>\n",
       "      <td>NaN</td>\n",
       "      <td>0</td>\n",
       "      <td>67016</td>\n",
       "      <td>NaT</td>\n",
       "      <td>0.000000</td>\n",
       "      <td>0.000000</td>\n",
       "    </tr>\n",
       "    <tr>\n",
       "      <th>4</th>\n",
       "      <td>2017-12-01</td>\n",
       "      <td>2</td>\n",
       "      <td>31</td>\n",
       "      <td>Male</td>\n",
       "      <td>C7</td>\n",
       "      <td>Master</td>\n",
       "      <td>67016</td>\n",
       "      <td>2017-11-06</td>\n",
       "      <td>NaT</td>\n",
       "      <td>2</td>\n",
       "      <td>...</td>\n",
       "      <td>0.833333</td>\n",
       "      <td>0.0</td>\n",
       "      <td>0</td>\n",
       "      <td>0.0</td>\n",
       "      <td>1.0</td>\n",
       "      <td>0</td>\n",
       "      <td>134032</td>\n",
       "      <td>NaT</td>\n",
       "      <td>0.000000</td>\n",
       "      <td>0.000000</td>\n",
       "    </tr>\n",
       "    <tr>\n",
       "      <th>5</th>\n",
       "      <td>2016-12-01</td>\n",
       "      <td>4</td>\n",
       "      <td>43</td>\n",
       "      <td>Male</td>\n",
       "      <td>C13</td>\n",
       "      <td>Master</td>\n",
       "      <td>65603</td>\n",
       "      <td>2016-12-07</td>\n",
       "      <td>2017-04-27</td>\n",
       "      <td>2</td>\n",
       "      <td>...</td>\n",
       "      <td>0.000000</td>\n",
       "      <td>0.0</td>\n",
       "      <td>0</td>\n",
       "      <td>NaN</td>\n",
       "      <td>NaN</td>\n",
       "      <td>0</td>\n",
       "      <td>65603</td>\n",
       "      <td>147 days</td>\n",
       "      <td>0.000000</td>\n",
       "      <td>0.000000</td>\n",
       "    </tr>\n",
       "    <tr>\n",
       "      <th>6</th>\n",
       "      <td>2017-01-01</td>\n",
       "      <td>4</td>\n",
       "      <td>43</td>\n",
       "      <td>Male</td>\n",
       "      <td>C13</td>\n",
       "      <td>Master</td>\n",
       "      <td>65603</td>\n",
       "      <td>2016-12-07</td>\n",
       "      <td>2017-04-27</td>\n",
       "      <td>2</td>\n",
       "      <td>...</td>\n",
       "      <td>0.833333</td>\n",
       "      <td>0.0</td>\n",
       "      <td>0</td>\n",
       "      <td>0.0</td>\n",
       "      <td>1.0</td>\n",
       "      <td>0</td>\n",
       "      <td>131206</td>\n",
       "      <td>116 days</td>\n",
       "      <td>0.000000</td>\n",
       "      <td>0.000000</td>\n",
       "    </tr>\n",
       "    <tr>\n",
       "      <th>7</th>\n",
       "      <td>2017-02-01</td>\n",
       "      <td>4</td>\n",
       "      <td>43</td>\n",
       "      <td>Male</td>\n",
       "      <td>C13</td>\n",
       "      <td>Master</td>\n",
       "      <td>65603</td>\n",
       "      <td>2016-12-07</td>\n",
       "      <td>2017-04-27</td>\n",
       "      <td>2</td>\n",
       "      <td>...</td>\n",
       "      <td>1.866667</td>\n",
       "      <td>0.0</td>\n",
       "      <td>0</td>\n",
       "      <td>0.0</td>\n",
       "      <td>1.0</td>\n",
       "      <td>0</td>\n",
       "      <td>196809</td>\n",
       "      <td>85 days</td>\n",
       "      <td>0.000000</td>\n",
       "      <td>0.000000</td>\n",
       "    </tr>\n",
       "    <tr>\n",
       "      <th>8</th>\n",
       "      <td>2017-03-01</td>\n",
       "      <td>4</td>\n",
       "      <td>43</td>\n",
       "      <td>Male</td>\n",
       "      <td>C13</td>\n",
       "      <td>Master</td>\n",
       "      <td>65603</td>\n",
       "      <td>2016-12-07</td>\n",
       "      <td>2017-04-27</td>\n",
       "      <td>2</td>\n",
       "      <td>...</td>\n",
       "      <td>2.800000</td>\n",
       "      <td>0.0</td>\n",
       "      <td>0</td>\n",
       "      <td>0.0</td>\n",
       "      <td>1.0</td>\n",
       "      <td>350000</td>\n",
       "      <td>262412</td>\n",
       "      <td>57 days</td>\n",
       "      <td>5.335122</td>\n",
       "      <td>1.333780</td>\n",
       "    </tr>\n",
       "    <tr>\n",
       "      <th>9</th>\n",
       "      <td>2017-04-01</td>\n",
       "      <td>4</td>\n",
       "      <td>43</td>\n",
       "      <td>Male</td>\n",
       "      <td>C13</td>\n",
       "      <td>Master</td>\n",
       "      <td>65603</td>\n",
       "      <td>2016-12-07</td>\n",
       "      <td>2017-04-27</td>\n",
       "      <td>2</td>\n",
       "      <td>...</td>\n",
       "      <td>3.833333</td>\n",
       "      <td>0.0</td>\n",
       "      <td>0</td>\n",
       "      <td>0.0</td>\n",
       "      <td>1.0</td>\n",
       "      <td>350000</td>\n",
       "      <td>328015</td>\n",
       "      <td>26 days</td>\n",
       "      <td>0.000000</td>\n",
       "      <td>1.067024</td>\n",
       "    </tr>\n",
       "    <tr>\n",
       "      <th>10</th>\n",
       "      <td>2016-01-01</td>\n",
       "      <td>5</td>\n",
       "      <td>29</td>\n",
       "      <td>Male</td>\n",
       "      <td>C9</td>\n",
       "      <td>College</td>\n",
       "      <td>46368</td>\n",
       "      <td>2016-01-09</td>\n",
       "      <td>2016-03-07</td>\n",
       "      <td>1</td>\n",
       "      <td>...</td>\n",
       "      <td>0.000000</td>\n",
       "      <td>0.0</td>\n",
       "      <td>0</td>\n",
       "      <td>NaN</td>\n",
       "      <td>NaN</td>\n",
       "      <td>0</td>\n",
       "      <td>46368</td>\n",
       "      <td>66 days</td>\n",
       "      <td>0.000000</td>\n",
       "      <td>0.000000</td>\n",
       "    </tr>\n",
       "    <tr>\n",
       "      <th>11</th>\n",
       "      <td>2016-02-01</td>\n",
       "      <td>5</td>\n",
       "      <td>29</td>\n",
       "      <td>Male</td>\n",
       "      <td>C9</td>\n",
       "      <td>College</td>\n",
       "      <td>46368</td>\n",
       "      <td>2016-01-09</td>\n",
       "      <td>2016-03-07</td>\n",
       "      <td>1</td>\n",
       "      <td>...</td>\n",
       "      <td>0.766667</td>\n",
       "      <td>0.0</td>\n",
       "      <td>0</td>\n",
       "      <td>0.0</td>\n",
       "      <td>1.0</td>\n",
       "      <td>120360</td>\n",
       "      <td>92736</td>\n",
       "      <td>35 days</td>\n",
       "      <td>2.595756</td>\n",
       "      <td>1.297878</td>\n",
       "    </tr>\n",
       "    <tr>\n",
       "      <th>12</th>\n",
       "      <td>2016-03-01</td>\n",
       "      <td>5</td>\n",
       "      <td>29</td>\n",
       "      <td>Male</td>\n",
       "      <td>C9</td>\n",
       "      <td>College</td>\n",
       "      <td>46368</td>\n",
       "      <td>2016-01-09</td>\n",
       "      <td>2016-03-07</td>\n",
       "      <td>1</td>\n",
       "      <td>...</td>\n",
       "      <td>1.733333</td>\n",
       "      <td>0.0</td>\n",
       "      <td>0</td>\n",
       "      <td>0.0</td>\n",
       "      <td>1.0</td>\n",
       "      <td>120360</td>\n",
       "      <td>139104</td>\n",
       "      <td>6 days</td>\n",
       "      <td>0.000000</td>\n",
       "      <td>0.865252</td>\n",
       "    </tr>\n",
       "    <tr>\n",
       "      <th>13</th>\n",
       "      <td>2017-08-01</td>\n",
       "      <td>6</td>\n",
       "      <td>31</td>\n",
       "      <td>Female</td>\n",
       "      <td>C11</td>\n",
       "      <td>Bachelor</td>\n",
       "      <td>78728</td>\n",
       "      <td>2017-07-31</td>\n",
       "      <td>NaT</td>\n",
       "      <td>3</td>\n",
       "      <td>...</td>\n",
       "      <td>0.033333</td>\n",
       "      <td>0.0</td>\n",
       "      <td>0</td>\n",
       "      <td>NaN</td>\n",
       "      <td>NaN</td>\n",
       "      <td>0</td>\n",
       "      <td>78728</td>\n",
       "      <td>NaT</td>\n",
       "      <td>0.000000</td>\n",
       "      <td>0.000000</td>\n",
       "    </tr>\n",
       "    <tr>\n",
       "      <th>14</th>\n",
       "      <td>2017-09-01</td>\n",
       "      <td>6</td>\n",
       "      <td>31</td>\n",
       "      <td>Female</td>\n",
       "      <td>C11</td>\n",
       "      <td>Bachelor</td>\n",
       "      <td>78728</td>\n",
       "      <td>2017-07-31</td>\n",
       "      <td>NaT</td>\n",
       "      <td>3</td>\n",
       "      <td>...</td>\n",
       "      <td>1.066667</td>\n",
       "      <td>0.0</td>\n",
       "      <td>0</td>\n",
       "      <td>0.0</td>\n",
       "      <td>1.0</td>\n",
       "      <td>0</td>\n",
       "      <td>157456</td>\n",
       "      <td>NaT</td>\n",
       "      <td>0.000000</td>\n",
       "      <td>0.000000</td>\n",
       "    </tr>\n",
       "  </tbody>\n",
       "</table>\n",
       "<p>15 rows × 24 columns</p>\n",
       "</div>"
      ],
      "text/plain": [
       "       MMM-YY Emp_ID  Age  Gender City Education_Level  Salary Dateofjoining  \\\n",
       "0  2016-01-01      1   28    Male  C23          Master   57387    2015-12-24   \n",
       "1  2016-02-01      1   28    Male  C23          Master   57387    2015-12-24   \n",
       "2  2016-03-01      1   28    Male  C23          Master   57387    2015-12-24   \n",
       "3  2017-11-01      2   31    Male   C7          Master   67016    2017-11-06   \n",
       "4  2017-12-01      2   31    Male   C7          Master   67016    2017-11-06   \n",
       "5  2016-12-01      4   43    Male  C13          Master   65603    2016-12-07   \n",
       "6  2017-01-01      4   43    Male  C13          Master   65603    2016-12-07   \n",
       "7  2017-02-01      4   43    Male  C13          Master   65603    2016-12-07   \n",
       "8  2017-03-01      4   43    Male  C13          Master   65603    2016-12-07   \n",
       "9  2017-04-01      4   43    Male  C13          Master   65603    2016-12-07   \n",
       "10 2016-01-01      5   29    Male   C9         College   46368    2016-01-09   \n",
       "11 2016-02-01      5   29    Male   C9         College   46368    2016-01-09   \n",
       "12 2016-03-01      5   29    Male   C9         College   46368    2016-01-09   \n",
       "13 2017-08-01      6   31  Female  C11        Bachelor   78728    2017-07-31   \n",
       "14 2017-09-01      6   31  Female  C11        Bachelor   78728    2017-07-31   \n",
       "\n",
       "   LastWorkingDate  Joining Designation  ...  Experience  Salaryraise  \\\n",
       "0       2016-03-11                    1  ...    0.266667          0.0   \n",
       "1       2016-03-11                    1  ...    1.300000          0.0   \n",
       "2       2016-03-11                    1  ...    2.266667          0.0   \n",
       "3              NaT                    2  ...    0.000000          0.0   \n",
       "4              NaT                    2  ...    0.833333          0.0   \n",
       "5       2017-04-27                    2  ...    0.000000          0.0   \n",
       "6       2017-04-27                    2  ...    0.833333          0.0   \n",
       "7       2017-04-27                    2  ...    1.866667          0.0   \n",
       "8       2017-04-27                    2  ...    2.800000          0.0   \n",
       "9       2017-04-27                    2  ...    3.833333          0.0   \n",
       "10      2016-03-07                    1  ...    0.000000          0.0   \n",
       "11      2016-03-07                    1  ...    0.766667          0.0   \n",
       "12      2016-03-07                    1  ...    1.733333          0.0   \n",
       "13             NaT                    3  ...    0.033333          0.0   \n",
       "14             NaT                    3  ...    1.066667          0.0   \n",
       "\n",
       "    Levels of Promotion  Quarterly rating diff  Previous quarterly rating  \\\n",
       "0                     0                    NaN                        NaN   \n",
       "1                     0                    0.0                        2.0   \n",
       "2                     0                    0.0                        2.0   \n",
       "3                     0                    NaN                        NaN   \n",
       "4                     0                    0.0                        1.0   \n",
       "5                     0                    NaN                        NaN   \n",
       "6                     0                    0.0                        1.0   \n",
       "7                     0                    0.0                        1.0   \n",
       "8                     0                    0.0                        1.0   \n",
       "9                     0                    0.0                        1.0   \n",
       "10                    0                    NaN                        NaN   \n",
       "11                    0                    0.0                        1.0   \n",
       "12                    0                    0.0                        1.0   \n",
       "13                    0                    NaN                        NaN   \n",
       "14                    0                    0.0                        1.0   \n",
       "\n",
       "    Accumulated Business Value  Accumulated Salary     Days     QE_val  \\\n",
       "0                      2381060               57387  70 days  41.491279   \n",
       "1                      1715580              114774  39 days -11.596355   \n",
       "2                      1715580              172161  10 days   0.000000   \n",
       "3                            0               67016      NaT   0.000000   \n",
       "4                            0              134032      NaT   0.000000   \n",
       "5                            0               65603 147 days   0.000000   \n",
       "6                            0              131206 116 days   0.000000   \n",
       "7                            0              196809  85 days   0.000000   \n",
       "8                       350000              262412  57 days   5.335122   \n",
       "9                       350000              328015  26 days   0.000000   \n",
       "10                           0               46368  66 days   0.000000   \n",
       "11                      120360               92736  35 days   2.595756   \n",
       "12                      120360              139104   6 days   0.000000   \n",
       "13                           0               78728      NaT   0.000000   \n",
       "14                           0              157456      NaT   0.000000   \n",
       "\n",
       "    Accumulated QE_val  \n",
       "0            41.491279  \n",
       "1            14.947462  \n",
       "2             9.964975  \n",
       "3             0.000000  \n",
       "4             0.000000  \n",
       "5             0.000000  \n",
       "6             0.000000  \n",
       "7             0.000000  \n",
       "8             1.333780  \n",
       "9             1.067024  \n",
       "10            0.000000  \n",
       "11            1.297878  \n",
       "12            0.865252  \n",
       "13            0.000000  \n",
       "14            0.000000  \n",
       "\n",
       "[15 rows x 24 columns]"
      ]
     },
     "execution_count": 20,
     "metadata": {},
     "output_type": "execute_result"
    }
   ],
   "source": [
    "a.head(15)"
   ]
  },
  {
   "cell_type": "code",
   "execution_count": 21,
   "metadata": {},
   "outputs": [
    {
     "name": "stdout",
     "output_type": "stream",
     "text": [
      "Gender\n",
      "Female    66133.798275\n",
      "Male      65304.851662\n",
      "Name: Salary, dtype: float64\n",
      "\n",
      "Gender\n",
      "Female    20.061642\n",
      "Male      19.493647\n",
      "Name: Experience, dtype: float64\n",
      "\n",
      "Gender\n",
      "Female    9.006381\n",
      "Male      8.910408\n",
      "Name: QE_val, dtype: float64\n",
      "\n",
      "Education_Level\n",
      "Bachelor    66362.592366\n",
      "College     60644.080670\n",
      "Master      69561.404299\n",
      "Name: Salary, dtype: float64\n",
      "\n",
      "Education_Level\n",
      "Bachelor    9.271748\n",
      "College     9.677216\n",
      "Master      7.923132\n",
      "Name: QE_val, dtype: float64\n",
      "\n",
      "Education_Level\n",
      "Bachelor    21.111242\n",
      "College     19.570399\n",
      "Master      18.385306\n",
      "Name: Experience, dtype: float64\n"
     ]
    }
   ],
   "source": [
    "print(a.groupby(\"Gender\").Salary.mean())\n",
    "print(\"\")\n",
    "print(a.groupby(\"Gender\").Experience.mean())\n",
    "print(\"\")\n",
    "print(a.groupby(\"Gender\").QE_val.mean())\n",
    "print(\"\")\n",
    "\n",
    "print(a.groupby(\"Education_Level\").Salary.mean())\n",
    "print(\"\")\n",
    "print(a.groupby(\"Education_Level\").QE_val.mean())\n",
    "print(\"\")\n",
    "print(a.groupby(\"Education_Level\").Experience.mean())\n"
   ]
  },
  {
   "cell_type": "markdown",
   "metadata": {},
   "source": [
    "# MODEL "
   ]
  },
  {
   "cell_type": "code",
   "execution_count": 22,
   "metadata": {},
   "outputs": [],
   "source": [
    "m = a[~ a[\"Emp_ID\"].isin(t[\"Emp_ID\"])]\n",
    "\n",
    "# Data for building the model ;  Rest is the data we have to predict upon; "
   ]
  },
  {
   "cell_type": "code",
   "execution_count": 23,
   "metadata": {},
   "outputs": [],
   "source": [
    "m = m.drop([\"MMM-YY\",\"LastWorkingDate\",\"Dateofjoining\"], axis = 1)"
   ]
  },
  {
   "cell_type": "markdown",
   "metadata": {},
   "source": [
    "Creating the target label based upon whether an employee left within 180 days (6 months) of a monthy reporting date;\n",
    "1 : Yes\n",
    "0 : No"
   ]
  },
  {
   "cell_type": "code",
   "execution_count": 24,
   "metadata": {},
   "outputs": [],
   "source": [
    "m[\"Left_180\"] = (m[\"Days\"].dt.days <= 180)*1\n",
    "m[\"Left_180\"].fillna(0,inplace=True)"
   ]
  },
  {
   "cell_type": "markdown",
   "metadata": {},
   "source": [
    "m.isnull().sum()"
   ]
  },
  {
   "cell_type": "code",
   "execution_count": 25,
   "metadata": {},
   "outputs": [
    {
     "data": {
      "text/plain": [
       "Emp_ID                                 object\n",
       "Age                                     int64\n",
       "Gender                                 object\n",
       "City                                   object\n",
       "Education_Level                        object\n",
       "Salary                                  int64\n",
       "Joining Designation                     int64\n",
       "Designation                             int64\n",
       "Total Business Value                    int64\n",
       "Quarterly Rating                        int64\n",
       "Left_company                          float64\n",
       "Experience                            float64\n",
       "Salaryraise                           float64\n",
       "Levels of Promotion                     int64\n",
       "Quarterly rating diff                 float64\n",
       "Previous quarterly rating             float64\n",
       "Accumulated Business Value              int64\n",
       "Accumulated Salary                      int64\n",
       "Days                          timedelta64[ns]\n",
       "QE_val                                float64\n",
       "Accumulated QE_val                    float64\n",
       "Left_180                                int32\n",
       "dtype: object"
      ]
     },
     "execution_count": 25,
     "metadata": {},
     "output_type": "execute_result"
    }
   ],
   "source": [
    "m.dtypes"
   ]
  },
  {
   "cell_type": "code",
   "execution_count": 26,
   "metadata": {},
   "outputs": [],
   "source": [
    "m[\"Days\"] = m[\"Days\"].dt.days\n",
    "m[\"Quarterly rating diff\"].fillna(0,inplace=True)\n",
    "m[\"Previous quarterly rating\"].fillna(0,inplace=True)"
   ]
  },
  {
   "cell_type": "code",
   "execution_count": 27,
   "metadata": {},
   "outputs": [],
   "source": [
    "y = m.pop(\"Left_180\").astype(\"category\")\n",
    "x = m"
   ]
  },
  {
   "cell_type": "code",
   "execution_count": 28,
   "metadata": {},
   "outputs": [],
   "source": [
    "from sklearn.tree import DecisionTreeClassifier\n",
    "from sklearn.ensemble import RandomForestClassifier\n",
    "from sklearn.linear_model import LogisticRegression\n",
    "from catboost import CatBoostClassifier\n"
   ]
  },
  {
   "cell_type": "code",
   "execution_count": 29,
   "metadata": {},
   "outputs": [],
   "source": [
    "x[[\"Gender\",\"City\",\"Education_Level\"]] = x[[\"Gender\",\"City\",\"Education_Level\"]].astype(\"category\")"
   ]
  },
  {
   "cell_type": "markdown",
   "metadata": {},
   "source": [
    "Employee \"City\" information has high cardinality, which would create an issue when we want to integer code the categories. To address this, we group cities based on the average experience of an employee from that particular city, and reduce them to smaller categories (G1,G2,G3)."
   ]
  },
  {
   "cell_type": "code",
   "execution_count": 30,
   "metadata": {},
   "outputs": [],
   "source": [
    "avg_exp = pd.DataFrame(x.groupby(\"City\").Experience.agg(\"mean\"))"
   ]
  },
  {
   "cell_type": "code",
   "execution_count": 31,
   "metadata": {},
   "outputs": [
    {
     "name": "stdout",
     "output_type": "stream",
     "text": [
      "CategoricalIndex(['C15', 'C24', 'C8', 'C9'], categories=['C1', 'C10', 'C11', 'C12', 'C13', 'C14', 'C15', 'C16', ...], ordered=False, name='City', dtype='category')\n",
      "CategoricalIndex(['C1', 'C10', 'C13', 'C18', 'C19', 'C21', 'C22', 'C26', 'C27',\n",
      "                  'C6', 'C7'],\n",
      "                 categories=['C1', 'C10', 'C11', 'C12', 'C13', 'C14', 'C15', 'C16', ...], ordered=False, name='City', dtype='category')\n",
      "CategoricalIndex(['C11', 'C12', 'C14', 'C16', 'C17', 'C2', 'C20', 'C23', 'C25',\n",
      "                  'C28', 'C29', 'C3', 'C4', 'C5'],\n",
      "                 categories=['C1', 'C10', 'C11', 'C12', 'C13', 'C14', 'C15', 'C16', ...], ordered=False, name='City', dtype='category')\n"
     ]
    }
   ],
   "source": [
    "print(avg_exp.index[avg_exp.Experience <= 10])\n",
    "print(avg_exp.index[avg_exp.Experience > 15])\n",
    "print(avg_exp.index[(avg_exp.Experience > 10) & (avg_exp.Experience <=15)])"
   ]
  },
  {
   "cell_type": "code",
   "execution_count": 32,
   "metadata": {},
   "outputs": [],
   "source": [
    "x = x.replace([\"C15\",\"C24\",\"C8\",\"C9\"], \"G1\")\n",
    "x = x.replace(['C1', 'C10', 'C13', 'C18', 'C19', 'C21', 'C22', 'C26', 'C27',\n",
    "                  'C6', 'C7'], \"G3\")\n",
    "x = x.replace(['C11', 'C12', 'C14', 'C16', 'C17', 'C2', 'C20', 'C23', 'C25',\n",
    "                  'C28', 'C29', 'C3', 'C4', 'C5'], \"G2\")"
   ]
  },
  {
   "cell_type": "code",
   "execution_count": 33,
   "metadata": {},
   "outputs": [
    {
     "data": {
      "text/plain": [
       "['G2', 'G3', 'G1']\n",
       "Categories (3, object): ['G2', 'G3', 'G1']"
      ]
     },
     "execution_count": 33,
     "metadata": {},
     "output_type": "execute_result"
    }
   ],
   "source": [
    "x[\"City\"].unique()"
   ]
  },
  {
   "cell_type": "code",
   "execution_count": 34,
   "metadata": {},
   "outputs": [],
   "source": [
    "x = x.drop([\"Emp_ID\",\"Days\",\"Left_company\"], axis = 1)"
   ]
  },
  {
   "cell_type": "markdown",
   "metadata": {},
   "source": []
  },
  {
   "cell_type": "code",
   "execution_count": 35,
   "metadata": {
    "scrolled": true
   },
   "outputs": [],
   "source": [
    "# Integer coding the categorical variables\n",
    "\n",
    "x = pd.get_dummies(x, columns = [\"Gender\", \"City\",\"Education_Level\"])"
   ]
  },
  {
   "cell_type": "code",
   "execution_count": 36,
   "metadata": {},
   "outputs": [
    {
     "name": "stdout",
     "output_type": "stream",
     "text": [
      "Accuracy of Decision Tree Classifier on training set: 1.0\n",
      "Accuracy of Decision Tree Classifier on testing set: 0.7881320440392301\n",
      " \n",
      "Accuracy of Random Forrest Model on training set 0.9933673312324572\n",
      "Accuracy of Random Forrest Model on testing set: 0.8045836026816598\n",
      " \n",
      "Accuracy of Logistic Regression Model on training set: 0.7211390757674063\n",
      "Accuracy of Logistic Regression Model on testing set: 0.7213751053315663\n"
     ]
    }
   ],
   "source": [
    "fold = StratifiedKFold(5, True, 15)\n",
    "\n",
    "rf_train_score = 0\n",
    "rf_test_score = 0\n",
    "\n",
    "dt_train_score = 0\n",
    "dt_test_score = 0\n",
    "\n",
    "lr_train_score = 0\n",
    "lr_test_score = 0\n",
    "\n",
    "\n",
    "\n",
    "for tr_index, te_index in fold.split(x,y): \n",
    "    x_train, x_test = x.iloc[tr_index], x.iloc[te_index] \n",
    "    y_train, y_test = y.iloc[tr_index], y.iloc[te_index]\n",
    "\n",
    "    rf = RandomForestClassifier()\n",
    "    dt = DecisionTreeClassifier()\n",
    "    lr = LogisticRegression(solver = 'liblinear')\n",
    "    cb = CatBoostClassifier()\n",
    "\n",
    "    rf.fit(x_train,y_train)\n",
    "    rf_train_score += accuracy_score(y_train,rf.predict(x_train))\n",
    "    rf_test_score += accuracy_score(y_test,rf.predict(x_test))\n",
    "    \n",
    "\n",
    "    dt.fit(x_train,y_train)\n",
    "    dt_train_score += accuracy_score(y_train,dt.predict(x_train))\n",
    "    dt_test_score += accuracy_score(y_test,dt.predict(x_test))\n",
    "    \n",
    "    lr.fit(x_train,y_train)\n",
    "    lr_train_score += accuracy_score(y_train,lr.predict(x_train))\n",
    "    lr_test_score += accuracy_score(y_test,lr.predict(x_test))\n",
    "    \n",
    "\n",
    "\n",
    "print(\"Accuracy of Decision Tree Classifier on training set:\", dt_train_score / 5)\n",
    "print(\"Accuracy of Decision Tree Classifier on testing set:\", dt_test_score / 5)\n",
    "\n",
    "print(\" \")\n",
    "\n",
    "print(\"Accuracy of Random Forrest Model on training set\", rf_train_score / 5)\n",
    "print(\"Accuracy of Random Forrest Model on testing set:\", rf_test_score / 5)\n",
    "\n",
    "print(\" \")\n",
    "\n",
    "print(\"Accuracy of Logistic Regression Model on training set:\", lr_train_score/5)\n",
    "print(\"Accuracy of Logistic Regression Model on testing set:\", lr_test_score/5)\n",
    "\n"
   ]
  },
  {
   "cell_type": "code",
   "execution_count": 37,
   "metadata": {},
   "outputs": [
    {
     "name": "stdout",
     "output_type": "stream",
     "text": [
      "             precision    recall  f1-score   support\n",
      "\n",
      "          0       0.68      0.62      0.65       620\n",
      "          1       0.85      0.88      0.86      1482\n",
      "\n",
      "avg / total       0.80      0.80      0.80      2102\n",
      "\n"
     ]
    }
   ],
   "source": [
    "print(metrics.classification_report(y_test, rf.predict(x_test)))"
   ]
  },
  {
   "cell_type": "code",
   "execution_count": 38,
   "metadata": {},
   "outputs": [
    {
     "name": "stdout",
     "output_type": "stream",
     "text": [
      "             precision    recall  f1-score   support\n",
      "\n",
      "          0       0.63      0.62      0.63       620\n",
      "          1       0.84      0.85      0.85      1482\n",
      "\n",
      "avg / total       0.78      0.78      0.78      2102\n",
      "\n"
     ]
    }
   ],
   "source": [
    "print(metrics.classification_report(y_test, dt.predict(x_test)))"
   ]
  },
  {
   "cell_type": "code",
   "execution_count": 39,
   "metadata": {},
   "outputs": [
    {
     "name": "stdout",
     "output_type": "stream",
     "text": [
      "             precision    recall  f1-score   support\n",
      "\n",
      "          0       0.54      0.18      0.27       620\n",
      "          1       0.73      0.93      0.82      1482\n",
      "\n",
      "avg / total       0.67      0.71      0.66      2102\n",
      "\n"
     ]
    }
   ],
   "source": [
    "print(metrics.classification_report(y_test, lr.predict(x_test)))"
   ]
  },
  {
   "cell_type": "code",
   "execution_count": 40,
   "metadata": {},
   "outputs": [],
   "source": [
    "importance = rf.feature_importances_\n",
    "feature_names = x_train.columns"
   ]
  },
  {
   "cell_type": "code",
   "execution_count": 41,
   "metadata": {},
   "outputs": [],
   "source": [
    "feature_importance = pd.DataFrame({\"Feature\": feature_names, \"Importance\": importance})"
   ]
  },
  {
   "cell_type": "code",
   "execution_count": 42,
   "metadata": {},
   "outputs": [
    {
     "data": {
      "text/html": [
       "<div>\n",
       "<style scoped>\n",
       "    .dataframe tbody tr th:only-of-type {\n",
       "        vertical-align: middle;\n",
       "    }\n",
       "\n",
       "    .dataframe tbody tr th {\n",
       "        vertical-align: top;\n",
       "    }\n",
       "\n",
       "    .dataframe thead th {\n",
       "        text-align: right;\n",
       "    }\n",
       "</style>\n",
       "<table border=\"1\" class=\"dataframe\">\n",
       "  <thead>\n",
       "    <tr style=\"text-align: right;\">\n",
       "      <th></th>\n",
       "      <th>Feature</th>\n",
       "      <th>Importance</th>\n",
       "    </tr>\n",
       "  </thead>\n",
       "  <tbody>\n",
       "    <tr>\n",
       "      <th>0</th>\n",
       "      <td>Age</td>\n",
       "      <td>0.080604</td>\n",
       "    </tr>\n",
       "    <tr>\n",
       "      <th>1</th>\n",
       "      <td>Salary</td>\n",
       "      <td>0.104906</td>\n",
       "    </tr>\n",
       "    <tr>\n",
       "      <th>2</th>\n",
       "      <td>Joining Designation</td>\n",
       "      <td>0.018770</td>\n",
       "    </tr>\n",
       "    <tr>\n",
       "      <th>3</th>\n",
       "      <td>Designation</td>\n",
       "      <td>0.023169</td>\n",
       "    </tr>\n",
       "    <tr>\n",
       "      <th>4</th>\n",
       "      <td>Total Business Value</td>\n",
       "      <td>0.082132</td>\n",
       "    </tr>\n",
       "    <tr>\n",
       "      <th>5</th>\n",
       "      <td>Quarterly Rating</td>\n",
       "      <td>0.072713</td>\n",
       "    </tr>\n",
       "    <tr>\n",
       "      <th>6</th>\n",
       "      <td>Experience</td>\n",
       "      <td>0.103695</td>\n",
       "    </tr>\n",
       "    <tr>\n",
       "      <th>7</th>\n",
       "      <td>Salaryraise</td>\n",
       "      <td>0.000079</td>\n",
       "    </tr>\n",
       "    <tr>\n",
       "      <th>8</th>\n",
       "      <td>Levels of Promotion</td>\n",
       "      <td>0.029650</td>\n",
       "    </tr>\n",
       "    <tr>\n",
       "      <th>9</th>\n",
       "      <td>Quarterly rating diff</td>\n",
       "      <td>0.012118</td>\n",
       "    </tr>\n",
       "    <tr>\n",
       "      <th>10</th>\n",
       "      <td>Previous quarterly rating</td>\n",
       "      <td>0.034687</td>\n",
       "    </tr>\n",
       "    <tr>\n",
       "      <th>11</th>\n",
       "      <td>Accumulated Business Value</td>\n",
       "      <td>0.087286</td>\n",
       "    </tr>\n",
       "    <tr>\n",
       "      <th>12</th>\n",
       "      <td>Accumulated Salary</td>\n",
       "      <td>0.111857</td>\n",
       "    </tr>\n",
       "    <tr>\n",
       "      <th>13</th>\n",
       "      <td>QE_val</td>\n",
       "      <td>0.070582</td>\n",
       "    </tr>\n",
       "    <tr>\n",
       "      <th>14</th>\n",
       "      <td>Accumulated QE_val</td>\n",
       "      <td>0.074488</td>\n",
       "    </tr>\n",
       "    <tr>\n",
       "      <th>15</th>\n",
       "      <td>Gender_Female</td>\n",
       "      <td>0.010378</td>\n",
       "    </tr>\n",
       "    <tr>\n",
       "      <th>16</th>\n",
       "      <td>Gender_Male</td>\n",
       "      <td>0.010067</td>\n",
       "    </tr>\n",
       "    <tr>\n",
       "      <th>17</th>\n",
       "      <td>City_G3</td>\n",
       "      <td>0.013818</td>\n",
       "    </tr>\n",
       "    <tr>\n",
       "      <th>18</th>\n",
       "      <td>City_G2</td>\n",
       "      <td>0.012048</td>\n",
       "    </tr>\n",
       "    <tr>\n",
       "      <th>19</th>\n",
       "      <td>City_G1</td>\n",
       "      <td>0.009274</td>\n",
       "    </tr>\n",
       "    <tr>\n",
       "      <th>20</th>\n",
       "      <td>Education_Level_Bachelor</td>\n",
       "      <td>0.014596</td>\n",
       "    </tr>\n",
       "    <tr>\n",
       "      <th>21</th>\n",
       "      <td>Education_Level_College</td>\n",
       "      <td>0.010391</td>\n",
       "    </tr>\n",
       "    <tr>\n",
       "      <th>22</th>\n",
       "      <td>Education_Level_Master</td>\n",
       "      <td>0.012692</td>\n",
       "    </tr>\n",
       "  </tbody>\n",
       "</table>\n",
       "</div>"
      ],
      "text/plain": [
       "                       Feature  Importance\n",
       "0                          Age    0.080604\n",
       "1                       Salary    0.104906\n",
       "2          Joining Designation    0.018770\n",
       "3                  Designation    0.023169\n",
       "4         Total Business Value    0.082132\n",
       "5             Quarterly Rating    0.072713\n",
       "6                   Experience    0.103695\n",
       "7                  Salaryraise    0.000079\n",
       "8          Levels of Promotion    0.029650\n",
       "9        Quarterly rating diff    0.012118\n",
       "10   Previous quarterly rating    0.034687\n",
       "11  Accumulated Business Value    0.087286\n",
       "12          Accumulated Salary    0.111857\n",
       "13                      QE_val    0.070582\n",
       "14          Accumulated QE_val    0.074488\n",
       "15               Gender_Female    0.010378\n",
       "16                 Gender_Male    0.010067\n",
       "17                     City_G3    0.013818\n",
       "18                     City_G2    0.012048\n",
       "19                     City_G1    0.009274\n",
       "20    Education_Level_Bachelor    0.014596\n",
       "21     Education_Level_College    0.010391\n",
       "22      Education_Level_Master    0.012692"
      ]
     },
     "execution_count": 42,
     "metadata": {},
     "output_type": "execute_result"
    }
   ],
   "source": [
    "feature_importance"
   ]
  },
  {
   "cell_type": "code",
   "execution_count": 43,
   "metadata": {},
   "outputs": [
    {
     "data": {
      "image/png": "[encoded data removed]",
      "text/plain": [
       "<Figure size 432x288 with 1 Axes>"
      ]
     },
     "metadata": {},
     "output_type": "display_data"
    }
   ],
   "source": [
    "feature_importance.plot(kind = \"barh\", title = \"Feature Importance\")\n",
    "plt.show()"
   ]
  },
  {
   "cell_type": "markdown",
   "metadata": {},
   "source": [
    "Most important details to determine whether an employee will leave or not:\n",
    " \n",
    "1. Salary\n",
    "2. Business Value\n",
    "3. Experience\n",
    "4. Employee Value"
   ]
  },
  {
   "cell_type": "markdown",
   "metadata": {},
   "source": [
    "# Random Forest Model gives us the best results of all the models. The accuracy can still be improved upon by tuning the hyperparameters. We can use this model to predict if an employee will leave the company within 6 months of a monthly report date. This can help us pinpoint when an employee is likely to leave the company (Quarter 1 or 2 and so on)"
   ]
  },
  {
   "cell_type": "code",
   "execution_count": null,
   "metadata": {},
   "outputs": [],
   "source": []
  },
  {
   "cell_type": "code",
   "execution_count": null,
   "metadata": {},
   "outputs": [],
   "source": []
  }
 ],
 "metadata": {
  "kernelspec": {
   "display_name": "Python 3",
   "language": "python",
   "name": "python3"
  },
  "language_info": {
   "codemirror_mode": {
    "name": "ipython",
    "version": 3
   },
   "file_extension": ".py",
   "mimetype": "text/x-python",
   "name": "python",
   "nbconvert_exporter": "python",
   "pygments_lexer": "ipython3",
   "version": "3.6.5"
  }
 },
 "nbformat": 4,
 "nbformat_minor": 2
}
